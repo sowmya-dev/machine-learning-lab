{
 "cells": [
  {
   "cell_type": "code",
   "execution_count": 1,
   "metadata": {},
   "outputs": [],
   "source": [
    "import numpy as np\n",
    "from random import sample"
   ]
  },
  {
   "cell_type": "code",
   "execution_count": 2,
   "metadata": {},
   "outputs": [],
   "source": [
    "cluster1=[]\n",
    "cluster2=[]\n",
    "cluster3=[]\n",
    " \n",
    "points=[[2,4],[4,3],[5,2],[9,3],[6,12],[10,13],[20,5],[25,8],[21,10],[20,13],[27,9],[12,12]]\n",
    "centroid1=sample(points,1)\n",
    "centroid2=sample(points,1)\n",
    "centroid3=sample(points,1)\n"
   ]
  },
  {
   "cell_type": "code",
   "execution_count": 3,
   "metadata": {},
   "outputs": [
    {
     "data": {
      "text/plain": [
       "[[21, 10]]"
      ]
     },
     "execution_count": 3,
     "metadata": {},
     "output_type": "execute_result"
    }
   ],
   "source": [
    "centroid1"
   ]
  },
  {
   "cell_type": "code",
   "execution_count": 4,
   "metadata": {},
   "outputs": [
    {
     "data": {
      "text/plain": [
       "[[5, 2]]"
      ]
     },
     "execution_count": 4,
     "metadata": {},
     "output_type": "execute_result"
    }
   ],
   "source": [
    "centroid2"
   ]
  },
  {
   "cell_type": "code",
   "execution_count": 5,
   "metadata": {},
   "outputs": [
    {
     "data": {
      "text/plain": [
       "[[20, 5]]"
      ]
     },
     "execution_count": 5,
     "metadata": {},
     "output_type": "execute_result"
    }
   ],
   "source": [
    "centroid3"
   ]
  },
  {
   "cell_type": "code",
   "execution_count": 6,
   "metadata": {},
   "outputs": [],
   "source": [
    "c1=[]\n",
    "c2=[]\n",
    "c3=[]"
   ]
  },
  {
   "cell_type": "code",
   "execution_count": 10,
   "metadata": {},
   "outputs": [],
   "source": [
    "def euc_dist(p1,p2):\n",
    "    return np.sqrt(np.square(p1[0]-p2[0])+np.square(p1[1]-p2[1]))"
   ]
  },
  {
   "cell_type": "code",
   "execution_count": 11,
   "metadata": {},
   "outputs": [],
   "source": [
    "def clustering(cen1,cen2,cen3):\n",
    "    dist=[0]*3\n",
    "    for i in points:\n",
    "        dist[0]=euc_dist(i,cen1[0])\n",
    "        dist[1]=euc_dist(i,cen2[0])\n",
    "        dist[2]=euc_dist(i,cen3[0])\n",
    "        \n",
    "        closest=dist.index(min(dist))+1\n",
    "        if closest==1:\n",
    "            cluster1.append(i)\n",
    "        if closest==2:\n",
    "            cluster2.append(i)\n",
    "        if closest==3:\n",
    "            cluster3.append(i)\n",
    "    c11=np.round(np.mean(cluster1,axis=0),2).tolist()\n",
    "    c22=np.round(np.mean(cluster2,axis=0),2).tolist()\n",
    "    c33=np.round(np.mean(cluster3,axis=0),2).tolist() \n",
    "    return c11,c22,c33"
   ]
  },
  {
   "cell_type": "code",
   "execution_count": 12,
   "metadata": {},
   "outputs": [],
   "source": [
    "c1,c2,c3=clustering(centroid1,centroid2,centroid3)"
   ]
  },
  {
   "cell_type": "code",
   "execution_count": 13,
   "metadata": {},
   "outputs": [
    {
     "name": "stdout",
     "output_type": "stream",
     "text": [
      "[19.17, 10.83] [5.2, 4.8] [20.0, 5.0]\n"
     ]
    }
   ],
   "source": [
    "print(c1,c2,c3)"
   ]
  },
  {
   "cell_type": "code",
   "execution_count": 14,
   "metadata": {},
   "outputs": [
    {
     "name": "stdout",
     "output_type": "stream",
     "text": [
      "in iteration 1 centroid1= [19.17, 10.83] centroid2= [5.2, 4.8] centroid3= [20.0, 5.0]\n",
      "in iteration 2 centroid1= [18.64, 11.09] centroid2= [5.2, 4.8] centroid3= [21.67, 6.0]\n",
      "in iteration 3 centroid1= [17.87, 11.33] centroid2= [5.2, 4.8] centroid3= [22.83, 6.67]\n",
      "in iteration 4 centroid1= [17.42, 11.47] centroid2= [5.2, 4.8] centroid3= [23.22, 6.89]\n",
      "in iteration 5 centroid1= [16.95, 11.64] centroid2= [5.2, 4.8] centroid3= [23.23, 7.23]\n",
      "in iteration 6 centroid1= [16.6, 11.76] centroid2= [5.2, 4.8] centroid3= [23.24, 7.41]\n",
      "in iteration 7 centroid1= [16.32, 11.86] centroid2= [5.2, 4.8] centroid3= [23.24, 7.52]\n",
      "in iteration 8 centroid1= [16.1, 11.94] centroid2= [5.2, 4.8] centroid3= [23.24, 7.6]\n",
      "in iteration 9 centroid1= [15.91, 12.0] centroid2= [5.2, 4.8] centroid3= [23.24, 7.66]\n",
      "in iteration 10 centroid1= [15.76, 12.05] centroid2= [5.2, 4.8] centroid3= [23.24, 7.7]\n",
      "in iteration 11 centroid1= [15.62, 12.1] centroid2= [5.2, 4.8] centroid3= [23.24, 7.73]\n",
      "in iteration 12 centroid1= [15.51, 12.14] centroid2= [5.2, 4.8] centroid3= [23.24, 7.76]\n",
      "in iteration 13 centroid1= [15.41, 12.17] centroid2= [5.2, 4.8] centroid3= [23.24, 7.78]\n",
      "in iteration 14 centroid1= [15.33, 12.2] centroid2= [5.2, 4.8] centroid3= [23.24, 7.8]\n",
      "in iteration 15 centroid1= [15.25, 12.23] centroid2= [5.2, 4.8] centroid3= [23.25, 7.81]\n",
      "in iteration 16 centroid1= [15.18, 12.25] centroid2= [5.2, 4.8] centroid3= [23.25, 7.82]\n",
      "in iteration 17 centroid1= [15.12, 12.28] centroid2= [5.2, 4.8] centroid3= [23.25, 7.84]\n",
      "in iteration 18 centroid1= [15.07, 12.3] centroid2= [5.2, 4.8] centroid3= [23.25, 7.85]\n",
      "in iteration 19 centroid1= [15.02, 12.31] centroid2= [5.2, 4.8] centroid3= [23.25, 7.86]\n",
      "in iteration 20 centroid1= [14.97, 12.33] centroid2= [5.2, 4.8] centroid3= [23.25, 7.86]\n",
      "in iteration 21 centroid1= [14.93, 12.34] centroid2= [5.2, 4.8] centroid3= [23.25, 7.87]\n",
      "in iteration 22 centroid1= [14.89, 12.36] centroid2= [5.2, 4.8] centroid3= [23.25, 7.88]\n",
      "in iteration 23 centroid1= [14.86, 12.37] centroid2= [5.2, 4.8] centroid3= [23.25, 7.88]\n",
      "in iteration 24 centroid1= [14.82, 12.38] centroid2= [5.2, 4.8] centroid3= [23.25, 7.89]\n",
      "in iteration 25 centroid1= [14.79, 12.39] centroid2= [5.2, 4.8] centroid3= [23.25, 7.89]\n",
      "in iteration 26 centroid1= [14.76, 12.4] centroid2= [5.2, 4.8] centroid3= [23.25, 7.9]\n",
      "in iteration 27 centroid1= [14.74, 12.41] centroid2= [5.2, 4.8] centroid3= [23.25, 7.9]\n",
      "in iteration 28 centroid1= [14.71, 12.42] centroid2= [5.2, 4.8] centroid3= [23.25, 7.9]\n",
      "in iteration 29 centroid1= [14.69, 12.43] centroid2= [5.2, 4.8] centroid3= [23.25, 7.91]\n",
      "in iteration 30 centroid1= [14.67, 12.43] centroid2= [5.2, 4.8] centroid3= [23.25, 7.91]\n",
      "in iteration 31 centroid1= [14.65, 12.44] centroid2= [5.2, 4.8] centroid3= [23.25, 7.91]\n",
      "in iteration 32 centroid1= [14.63, 12.45] centroid2= [5.2, 4.8] centroid3= [23.25, 7.92]\n",
      "in iteration 33 centroid1= [14.61, 12.45] centroid2= [5.2, 4.8] centroid3= [23.25, 7.92]\n",
      "in iteration 34 centroid1= [14.6, 12.46] centroid2= [5.2, 4.8] centroid3= [23.25, 7.92]\n",
      "in iteration 35 centroid1= [14.58, 12.46] centroid2= [5.2, 4.8] centroid3= [23.25, 7.92]\n",
      "in iteration 36 centroid1= [14.57, 12.47] centroid2= [5.2, 4.8] centroid3= [23.25, 7.93]\n",
      "in iteration 37 centroid1= [14.55, 12.47] centroid2= [5.2, 4.8] centroid3= [23.25, 7.93]\n",
      "in iteration 38 centroid1= [14.54, 12.48] centroid2= [5.2, 4.8] centroid3= [23.25, 7.93]\n",
      "in iteration 39 centroid1= [14.52, 12.48] centroid2= [5.2, 4.8] centroid3= [23.25, 7.93]\n",
      "in iteration 40 centroid1= [14.51, 12.49] centroid2= [5.2, 4.8] centroid3= [23.25, 7.93]\n",
      "in iteration 41 centroid1= [14.5, 12.49] centroid2= [5.2, 4.8] centroid3= [23.25, 7.94]\n",
      "in iteration 42 centroid1= [14.49, 12.5] centroid2= [5.2, 4.8] centroid3= [23.25, 7.94]\n",
      "in iteration 43 centroid1= [14.48, 12.5] centroid2= [5.2, 4.8] centroid3= [23.25, 7.94]\n",
      "in iteration 44 centroid1= [14.47, 12.5] centroid2= [5.2, 4.8] centroid3= [23.25, 7.94]\n",
      "in iteration 45 centroid1= [14.46, 12.51] centroid2= [5.2, 4.8] centroid3= [23.25, 7.94]\n",
      "in iteration 46 centroid1= [14.45, 12.51] centroid2= [5.2, 4.8] centroid3= [23.25, 7.94]\n",
      "in iteration 47 centroid1= [14.44, 12.51] centroid2= [5.2, 4.8] centroid3= [23.25, 7.94]\n",
      "in iteration 48 centroid1= [14.43, 12.52] centroid2= [5.2, 4.8] centroid3= [23.25, 7.95]\n",
      "in iteration 49 centroid1= [14.42, 12.52] centroid2= [5.2, 4.8] centroid3= [23.25, 7.95]\n",
      "in iteration 50 centroid1= [14.41, 12.52] centroid2= [5.2, 4.8] centroid3= [23.25, 7.95]\n"
     ]
    }
   ],
   "source": [
    "c=1\n",
    "while c1!=centroid1[0] or c2!=centroid2[0] or c3!=centroid3[0]:\n",
    "    print(\"in iteration\",c,\"centroid1=\",c1,\"centroid2=\",c2,\"centroid3=\",c3)\n",
    "    centroid1[0]=c1\n",
    "    centroid2[0]=c2\n",
    "    centroid3[0]=c3\n",
    "    c1,c2,c3=clustering(centroid1,centroid2,centroid3)\n",
    "    c=c+1"
   ]
  },
  {
   "cell_type": "code",
   "execution_count": null,
   "metadata": {},
   "outputs": [],
   "source": []
  }
 ],
 "metadata": {
  "kernelspec": {
   "display_name": "Python 3",
   "language": "python",
   "name": "python3"
  },
  "language_info": {
   "codemirror_mode": {
    "name": "ipython",
    "version": 3
   },
   "file_extension": ".py",
   "mimetype": "text/x-python",
   "name": "python",
   "nbconvert_exporter": "python",
   "pygments_lexer": "ipython3",
   "version": "3.7.4"
  }
 },
 "nbformat": 4,
 "nbformat_minor": 2
}
