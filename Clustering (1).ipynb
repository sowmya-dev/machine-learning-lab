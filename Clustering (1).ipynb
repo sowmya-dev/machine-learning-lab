{
 "cells": [
  {
   "cell_type": "code",
   "execution_count": 116,
   "metadata": {},
   "outputs": [],
   "source": [
    "from random import sample\n",
    "import numpy as np"
   ]
  },
  {
   "cell_type": "code",
   "execution_count": 117,
   "metadata": {},
   "outputs": [],
   "source": [
    "centroid1=[]\n",
    "centroid2=[]\n",
    "centroid3=[]\n",
    "points = [[2,4],[4,3],[5,2],[9,3],[6,12],[10,13],[20,5],[25,8],[21,10],[20,13],[27,9],[12,12]]\n",
    "centroid1=sample(points,1)\n",
    "centroid2=sample(points,1)\n",
    "centroid3=sample(points,1)\n",
    "c_point = [0]*len(points)"
   ]
  },
  {
   "cell_type": "code",
   "execution_count": 118,
   "metadata": {},
   "outputs": [
    {
     "data": {
      "text/plain": [
       "[[9, 3]]"
      ]
     },
     "execution_count": 118,
     "metadata": {},
     "output_type": "execute_result"
    }
   ],
   "source": [
    "centroid1"
   ]
  },
  {
   "cell_type": "code",
   "execution_count": 119,
   "metadata": {},
   "outputs": [
    {
     "data": {
      "text/plain": [
       "[[6, 12]]"
      ]
     },
     "execution_count": 119,
     "metadata": {},
     "output_type": "execute_result"
    }
   ],
   "source": [
    "centroid2"
   ]
  },
  {
   "cell_type": "code",
   "execution_count": 120,
   "metadata": {},
   "outputs": [
    {
     "data": {
      "text/plain": [
       "[[5, 2]]"
      ]
     },
     "execution_count": 120,
     "metadata": {},
     "output_type": "execute_result"
    }
   ],
   "source": [
    "centroid3"
   ]
  },
  {
   "cell_type": "code",
   "execution_count": 121,
   "metadata": {},
   "outputs": [],
   "source": [
    "def e_distance(list1,list2):\n",
    "    dist = np.sqrt((np.square(list1[0]-list2[0])+np.square(list1[1]-list2[1])))\n",
    "    return dist\n",
    "\n",
    "def point_com(list1,list2):\n",
    "    x=round((list1[0]+list2[0])/2,4)\n",
    "    y=round((list1[1]+list2[1])/2,4)\n",
    "    return [x,y]"
   ]
  },
  {
   "cell_type": "code",
   "execution_count": 122,
   "metadata": {},
   "outputs": [],
   "source": [
    "distance1 = [0]*len(points)\n",
    "distance2 = [0]*len(points)\n",
    "distance3 = [0]*len(points)\n",
    "def dist_iter(it):\n",
    "    count1=0\n",
    "    for i in points:\n",
    "        dist1 = e_distance(i,centroid1[it])\n",
    "        dist2 = e_distance(i,centroid2[it])\n",
    "        dist3 = e_distance(i,centroid3[it])\n",
    "        distance1[count1] = round(dist1,4)\n",
    "        distance2[count1] = round(dist2,4)\n",
    "        distance3[count1] = round(dist3,4)\n",
    "        count1 = count1+1\n",
    "dist_iter(0)"
   ]
  },
  {
   "cell_type": "code",
   "execution_count": 123,
   "metadata": {},
   "outputs": [
    {
     "data": {
      "text/plain": [
       "[7.0711,\n",
       " 5.0,\n",
       " 4.1231,\n",
       " 0.0,\n",
       " 9.4868,\n",
       " 10.0499,\n",
       " 11.1803,\n",
       " 16.7631,\n",
       " 13.8924,\n",
       " 14.8661,\n",
       " 18.9737,\n",
       " 9.4868]"
      ]
     },
     "execution_count": 123,
     "metadata": {},
     "output_type": "execute_result"
    }
   ],
   "source": [
    "distance1"
   ]
  },
  {
   "cell_type": "code",
   "execution_count": 124,
   "metadata": {},
   "outputs": [
    {
     "data": {
      "text/plain": [
       "[8.9443,\n",
       " 9.2195,\n",
       " 10.0499,\n",
       " 9.4868,\n",
       " 0.0,\n",
       " 4.1231,\n",
       " 15.6525,\n",
       " 19.4165,\n",
       " 15.1327,\n",
       " 14.0357,\n",
       " 21.2132,\n",
       " 6.0]"
      ]
     },
     "execution_count": 124,
     "metadata": {},
     "output_type": "execute_result"
    }
   ],
   "source": [
    "distance2"
   ]
  },
  {
   "cell_type": "code",
   "execution_count": 125,
   "metadata": {},
   "outputs": [
    {
     "data": {
      "text/plain": [
       "[3.6056,\n",
       " 1.4142,\n",
       " 0.0,\n",
       " 4.1231,\n",
       " 10.0499,\n",
       " 12.083,\n",
       " 15.2971,\n",
       " 20.8806,\n",
       " 17.8885,\n",
       " 18.6011,\n",
       " 23.0868,\n",
       " 12.2066]"
      ]
     },
     "execution_count": 125,
     "metadata": {},
     "output_type": "execute_result"
    }
   ],
   "source": [
    "distance3"
   ]
  },
  {
   "cell_type": "code",
   "execution_count": 126,
   "metadata": {},
   "outputs": [],
   "source": [
    "def assign_cluster(c_point,distance1,distance2,distance3):\n",
    "    for i in range(0,len(distance1)):\n",
    "        if(distance1[i]<distance2[i] and distance1[i]<distance3[i]):\n",
    "            c_point[i]=1\n",
    "        elif(distance2[i]<distance1[i] and distance2[i]<distance3[i]):\n",
    "            c_point[i]=2\n",
    "        else:\n",
    "            c_point[i]=3"
   ]
  },
  {
   "cell_type": "code",
   "execution_count": 127,
   "metadata": {},
   "outputs": [
    {
     "data": {
      "text/plain": [
       "[3, 3, 3, 1, 2, 2, 1, 1, 1, 2, 1, 2]"
      ]
     },
     "execution_count": 127,
     "metadata": {},
     "output_type": "execute_result"
    }
   ],
   "source": [
    "assign_cluster(c_point,distance1,distance2,distance3)\n",
    "c_point"
   ]
  },
  {
   "cell_type": "code",
   "execution_count": 128,
   "metadata": {},
   "outputs": [
    {
     "name": "stdout",
     "output_type": "stream",
     "text": [
      "Centroid1 after iteration 1 is [23.4062, 8.4062]\n",
      "Centroid2 after iteration 1 is [12.625, 11.625]\n",
      "Centroid3 after iteration 1 is [3.75, 2.25]\n",
      "Centroid1 after iteration 2 is [24.044, 9.9189]\n",
      "Centroid2 after iteration 2 is [10.8281, 12.2031]\n",
      "Centroid3 after iteration 2 is [6.6094, 2.7656]\n",
      "Centroid1 after iteration 3 is [24.0639, 9.9662]\n",
      "Centroid2 after iteration 3 is [10.6035, 12.2754]\n",
      "Centroid3 after iteration 3 is [6.7881, 2.7978]\n",
      "Centroid1 after iteration 4 is [24.0645, 9.9677]\n",
      "Centroid2 after iteration 4 is [10.5755, 12.2844]\n",
      "Centroid3 after iteration 4 is [6.7992, 2.7999]\n",
      "Centroid1 after iteration 5 is [24.0645, 9.9677]\n",
      "Centroid2 after iteration 5 is [10.572, 12.2856]\n",
      "Centroid3 after iteration 5 is [6.7999, 2.8]\n",
      "Centroid1 after iteration 6 is [24.0645, 9.9677]\n",
      "Centroid2 after iteration 6 is [10.5715, 12.2857]\n",
      "Centroid3 after iteration 6 is [6.8, 2.8]\n",
      "Centroid1 after iteration 7 is [24.0645, 9.9677]\n",
      "Centroid2 after iteration 7 is [10.5714, 12.2857]\n",
      "Centroid3 after iteration 7 is [6.8, 2.8]\n",
      "Centroid1 after iteration 8 is [24.0645, 9.9677]\n",
      "Centroid2 after iteration 8 is [10.5714, 12.2857]\n",
      "Centroid3 after iteration 8 is [6.8, 2.8]\n",
      "Total iterations: 7\n"
     ]
    }
   ],
   "source": [
    "def cluster():\n",
    "    itr=0\n",
    "    sum1=[0,0]\n",
    "    sum2=[0,0]\n",
    "    sum3=[0,0]\n",
    "    while True:\n",
    "        count=0\n",
    "        dist_iter(itr)\n",
    "        assign_cluster(c_point,distance1,distance2,distance3)\n",
    "\n",
    "        for i in c_point:\n",
    "            if(i==1):\n",
    "                sum1 = point_com(sum1,points[count])\n",
    "            elif(i==2):\n",
    "                sum2= point_com(sum2,points[count])\n",
    "            else:\n",
    "                sum3 = point_com(sum3,points[count])\n",
    "            count = count+1\n",
    "    \n",
    "        itr=itr+1\n",
    "        centroid1.append(sum1)\n",
    "        centroid2.append(sum2)\n",
    "        centroid3.append(sum3)\n",
    "    \n",
    "        print(\"Centroid1 after iteration \"+str(itr)+\" is \"+ str(sum1))\n",
    "        print(\"Centroid2 after iteration \"+str(itr)+\" is \"+ str(sum2))\n",
    "        print(\"Centroid3 after iteration \"+str(itr)+\" is \"+ str(sum3))\n",
    "\n",
    "        \n",
    "        if(centroid1[itr-1]==centroid1[itr] and centroid2[itr-1]==centroid2[itr]):\n",
    "            print(\"Total iterations: \"+str(itr-1))\n",
    "            return\n",
    "#print(distance1)\n",
    "#print(distance2)\n",
    "cluster()"
   ]
  },
  {
   "cell_type": "code",
   "execution_count": 129,
   "metadata": {},
   "outputs": [
    {
     "data": {
      "text/plain": [
       "[3, 3, 3, 3, 2, 2, 1, 1, 1, 1, 1, 2]"
      ]
     },
     "execution_count": 129,
     "metadata": {},
     "output_type": "execute_result"
    }
   ],
   "source": [
    "c_point"
   ]
  },
  {
   "cell_type": "code",
   "execution_count": 130,
   "metadata": {},
   "outputs": [
    {
     "data": {
      "text/plain": [
       "[[9, 3],\n",
       " [23.4062, 8.4062],\n",
       " [24.044, 9.9189],\n",
       " [24.0639, 9.9662],\n",
       " [24.0645, 9.9677],\n",
       " [24.0645, 9.9677],\n",
       " [24.0645, 9.9677],\n",
       " [24.0645, 9.9677],\n",
       " [24.0645, 9.9677]]"
      ]
     },
     "execution_count": 130,
     "metadata": {},
     "output_type": "execute_result"
    }
   ],
   "source": [
    "centroid1"
   ]
  },
  {
   "cell_type": "code",
   "execution_count": null,
   "metadata": {},
   "outputs": [],
   "source": []
  }
 ],
 "metadata": {
  "kernelspec": {
   "display_name": "Python 3",
   "language": "python",
   "name": "python3"
  },
  "language_info": {
   "codemirror_mode": {
    "name": "ipython",
    "version": 3
   },
   "file_extension": ".py",
   "mimetype": "text/x-python",
   "name": "python",
   "nbconvert_exporter": "python",
   "pygments_lexer": "ipython3",
   "version": "3.7.4"
  }
 },
 "nbformat": 4,
 "nbformat_minor": 2
}
