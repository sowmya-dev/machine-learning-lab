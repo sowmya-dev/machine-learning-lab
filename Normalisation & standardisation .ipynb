{
 "cells": [
  {
   "cell_type": "code",
   "execution_count": 7,
   "metadata": {},
   "outputs": [],
   "source": [
    "import statistics\n",
    "my_list=[2,5,33,77,92,53,22,9,41,17]"
   ]
  },
  {
   "cell_type": "code",
   "execution_count": 8,
   "metadata": {},
   "outputs": [],
   "source": [
    "def normalize(list1):\n",
    "    normal_list=[]\n",
    "    list_max=max(list1)\n",
    "    list_min=min(list1)\n",
    "    #print(list_min)\n",
    "    #print(list_max)\n",
    "    for i in list1:\n",
    "        i=((i-list_min)/(list_max-list_min))\n",
    "        #print(i)\n",
    "        normal_list.append(i)\n",
    "    return normal_list"
   ]
  },
  {
   "cell_type": "code",
   "execution_count": 9,
   "metadata": {},
   "outputs": [
    {
     "data": {
      "text/plain": [
       "[0.0,\n",
       " 0.03333333333333333,\n",
       " 0.34444444444444444,\n",
       " 0.8333333333333334,\n",
       " 1.0,\n",
       " 0.5666666666666667,\n",
       " 0.2222222222222222,\n",
       " 0.07777777777777778,\n",
       " 0.43333333333333335,\n",
       " 0.16666666666666666]"
      ]
     },
     "execution_count": 9,
     "metadata": {},
     "output_type": "execute_result"
    }
   ],
   "source": [
    "normalize(my_list)"
   ]
  },
  {
   "cell_type": "code",
   "execution_count": 26,
   "metadata": {},
   "outputs": [],
   "source": [
    "def standard(list1):\n",
    "    s=0\n",
    "    dev=0\n",
    "    for i in list1:\n",
    "        s=s+i\n",
    "    m=s/len(list1)\n",
    "    print(\"Mean is \"+ str(m))\n",
    "    \n",
    "    for i in list1:\n",
    "        x=((i-m))**2\n",
    "        dev=dev+x\n",
    "    dev=dev/len(list1)\n",
    "    stdevv=(dev**0.5)\n",
    "    #print(stdevv)\n",
    "    \n",
    "    stddev=statistics.stdev(list1)\n",
    "    print(\"Standard deviation is \"+ str(stddev))\n",
    "    \n",
    "    standard_list=[]\n",
    "    for i in list1:\n",
    "        n=((i-m)/stddev)\n",
    "        print(\"{} : {}\".format(i,n))\n",
    "        standard_list.append(n)\n",
    "    return standard_list"
   ]
  },
  {
   "cell_type": "code",
   "execution_count": 27,
   "metadata": {},
   "outputs": [
    {
     "name": "stdout",
     "output_type": "stream",
     "text": [
      "Mean is 35.1\n",
      "Standard deviation is 30.79484083774784\n",
      "2 : -1.074855368611827\n",
      "5 : -0.9774364530276736\n",
      "33 : -0.06819324090890751\n",
      "77 : 1.3606175209920106\n",
      "92 : 1.8477120989127782\n",
      "53 : 0.5812661963187825\n",
      "22 : -0.425395931384137\n",
      "9 : -0.8475445655821355\n",
      "41 : 0.19159053398216852\n",
      "17 : -0.5877607906910596\n"
     ]
    },
    {
     "data": {
      "text/plain": [
       "[-1.074855368611827,\n",
       " -0.9774364530276736,\n",
       " -0.06819324090890751,\n",
       " 1.3606175209920106,\n",
       " 1.8477120989127782,\n",
       " 0.5812661963187825,\n",
       " -0.425395931384137,\n",
       " -0.8475445655821355,\n",
       " 0.19159053398216852,\n",
       " -0.5877607906910596]"
      ]
     },
     "execution_count": 27,
     "metadata": {},
     "output_type": "execute_result"
    }
   ],
   "source": [
    "standard(my_list)"
   ]
  },
  {
   "cell_type": "code",
   "execution_count": 28,
   "metadata": {},
   "outputs": [
    {
     "name": "stdout",
     "output_type": "stream",
     "text": [
      "Mean is 35.1\n",
      "Standard deviation is 30.79484083774784\n",
      "2 : -1.074855368611827\n",
      "5 : -0.9774364530276736\n",
      "33 : -0.06819324090890751\n",
      "77 : 1.3606175209920106\n",
      "92 : 1.8477120989127782\n",
      "53 : 0.5812661963187825\n",
      "22 : -0.425395931384137\n",
      "9 : -0.8475445655821355\n",
      "41 : 0.19159053398216852\n",
      "17 : -0.5877607906910596\n"
     ]
    }
   ],
   "source": [
    "list2=standard(my_list)"
   ]
  },
  {
   "cell_type": "code",
   "execution_count": 29,
   "metadata": {},
   "outputs": [
    {
     "data": {
      "text/plain": [
       "-2.914335439641036e-17"
      ]
     },
     "execution_count": 29,
     "metadata": {},
     "output_type": "execute_result"
    }
   ],
   "source": [
    "m_mean = statistics.mean(list2)\n",
    "m_mean"
   ]
  },
  {
   "cell_type": "code",
   "execution_count": null,
   "metadata": {},
   "outputs": [],
   "source": []
  }
 ],
 "metadata": {
  "kernelspec": {
   "display_name": "Python 3",
   "language": "python",
   "name": "python3"
  },
  "language_info": {
   "codemirror_mode": {
    "name": "ipython",
    "version": 3
   },
   "file_extension": ".py",
   "mimetype": "text/x-python",
   "name": "python",
   "nbconvert_exporter": "python",
   "pygments_lexer": "ipython3",
   "version": "3.7.4"
  }
 },
 "nbformat": 4,
 "nbformat_minor": 2
}
